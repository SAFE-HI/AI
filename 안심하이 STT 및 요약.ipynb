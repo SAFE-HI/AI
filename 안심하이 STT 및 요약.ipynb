{
 "cells": [
  {
   "cell_type": "markdown",
   "metadata": {},
   "source": [
    "# 실시간 STT 변환 및 자동 대화 요약 서비스\n",
    "동행매니저의 상담을 실시간으로 음성을 녹음한 후, 음성 데이터를 STT(Speech-to-Text)로 변환하고, 변환된 텍스트를 요약하는 서비스를 제공합니다. \n",
    "\n",
    "이 과정에서 비용효율적인 관리를 위해 텍스트 변환 이후, 더 이상 필요하지 않은 음성 파일들은 자동으로 삭제됩니다."
   ]
  },
  {
   "cell_type": "markdown",
   "metadata": {},
   "source": [
    "## 1. 필요한 라이브러리 임포트\n",
    "- queue: 비동기적으로 녹음된 오디오 데이터를 관리합니다.\n",
    "- threading: 녹음 작업을 백그라운드에서 실행하기 위해 스레드 처리를 담당합니다.\n",
    "- sounddevice, soundfile: 오디오 녹음을 수행하고 WAV 파일로 저장하는 라이브러리입니다.\n",
    "- pydub: WAV 파일을 20초 단위로 분할하는 데 사용됩니다.\n",
    "- requests, json, base64, urllib3: HTTP 요청을 보내어 STT와 요약 API를 호출하기 위한 라이브러리입니다.\n",
    "- os: 음성 파일을 삭제하기 위한 파일 시스템 작업을 수행하는 라이브러리입니다."
   ]
  },
  {
   "cell_type": "code",
   "execution_count": 3,
   "metadata": {},
   "outputs": [
    {
     "name": "stderr",
     "output_type": "stream",
     "text": [
      "/Library/Frameworks/Python.framework/Versions/3.11/lib/python3.11/site-packages/pydub/utils.py:170: RuntimeWarning: Couldn't find ffmpeg or avconv - defaulting to ffmpeg, but may not work\n",
      "  warn(\"Couldn't find ffmpeg or avconv - defaulting to ffmpeg, but may not work\", RuntimeWarning)\n"
     ]
    }
   ],
   "source": [
    "import queue\n",
    "import threading\n",
    "import sounddevice as sd\n",
    "import soundfile as sf\n",
    "import time\n",
    "from pydub import AudioSegment\n",
    "import requests\n",
    "import json\n",
    "import base64\n",
    "import urllib3\n",
    "import os  # 파일 삭제를 위해 os 모듈 추가\n"
   ]
  },
  {
   "cell_type": "markdown",
   "metadata": {},
   "source": [
    "## 2. 전역 변수 설정\n",
    "- q: 녹음된 오디오 데이터를 저장하는 큐입니다.\n",
    "- recording: 녹음 상태를 제어하는 플래그로, 녹음 중인지 여부를 나타냅니다."
   ]
  },
  {
   "cell_type": "code",
   "execution_count": 4,
   "metadata": {},
   "outputs": [],
   "source": [
    "q = queue.Queue()\n",
    "recording = False"
   ]
  },
  {
   "cell_type": "markdown",
   "metadata": {},
   "source": [
    "## 3. 음성 녹음 함수 정의"
   ]
  },
  {
   "cell_type": "markdown",
   "metadata": {},
   "source": [
    "### 3.1 녹음된 오디오 데이터를 파일로 저장하는 함수\n",
    "\n",
    "- complicated_record(): 마이크에서 입력된 오디오 데이터를 실시간으로 녹음하여 temp.wav 파일에 저장합니다.\n",
    "- sf.SoundFile: WAV 파일을 생성합니다.\n",
    "- sd.InputStream: 오디오 데이터를 스트리밍합니다.\n",
    "- complicated_save(): 콜백 함수로, 데이터를 큐에 저장하여 파일에 쓰여지도록 합니다."
   ]
  },
  {
   "cell_type": "code",
   "execution_count": 5,
   "metadata": {},
   "outputs": [],
   "source": [
    "def complicated_record():\n",
    "    with sf.SoundFile(\"temp.wav\", mode='w', samplerate=16000, subtype='PCM_16', channels=1) as file:\n",
    "        with sd.InputStream(samplerate=16000, dtype='int16', channels=1, callback=complicated_save):\n",
    "            while recording:\n",
    "                file.write(q.get())\n"
   ]
  },
  {
   "cell_type": "markdown",
   "metadata": {},
   "source": [
    "### 3.2 녹음된 데이터를 큐에 저장하는 콜백 함수\n",
    "\n",
    "- complicated_save(): 오디오 스트림에서 데이터를 받아 큐에 저장합니다.\n",
    "- 이 함수는 sounddevice.InputStream에 의해 호출되며, 오디오 데이터를 큐에 복사합니다."
   ]
  },
  {
   "cell_type": "code",
   "execution_count": 6,
   "metadata": {},
   "outputs": [],
   "source": [
    "def complicated_save(indata, frames, time, status):\n",
    "    q.put(indata.copy())"
   ]
  },
  {
   "cell_type": "markdown",
   "metadata": {},
   "source": [
    "## 4. 녹음 시작 및 종료 함수 정의"
   ]
  },
  {
   "cell_type": "markdown",
   "metadata": {},
   "source": [
    "### 4.1 녹음 시작 함수\n",
    "\n",
    "- start_recording(): 녹음을 시작합니다.\n",
    "- recording 플래그를 True로 설정하고, 녹음 작업을 별도의 스레드에서 실행하여 메인 프로그램이 중단되지 않도록 합니다."
   ]
  },
  {
   "cell_type": "code",
   "execution_count": 7,
   "metadata": {},
   "outputs": [],
   "source": [
    "def start_recording():\n",
    "    global recording\n",
    "    recording = True\n",
    "    recorder = threading.Thread(target=complicated_record)\n",
    "    print('Start recording')\n",
    "    recorder.start()\n",
    "    return recorder"
   ]
  },
  {
   "cell_type": "markdown",
   "metadata": {},
   "source": [
    "### 4.2 녹음 종료 함수\n",
    "- stop_recording(): 녹음을 중지합니다.\n",
    "- recording 플래그를 False로 설정하여 녹음 루프를 종료시키고, 스레드가 안전하게 종료될 때까지 기다립니다 (join() 사용)."
   ]
  },
  {
   "cell_type": "code",
   "execution_count": 8,
   "metadata": {},
   "outputs": [],
   "source": [
    "def stop_recording(recorder):\n",
    "    global recording\n",
    "    recording = False\n",
    "    recorder.join()\n",
    "    print('Stop recording')\n"
   ]
  },
  {
   "cell_type": "markdown",
   "metadata": {},
   "source": [
    "## 5. 녹음된 파일을 STT로 변환 및 파일 삭제"
   ]
  },
  {
   "cell_type": "markdown",
   "metadata": {},
   "source": [
    "### 5.1 오디오 파일을 20초씩 분할하고 STT 처리\n",
    "\n",
    "- split_audio_and_send(): 녹음된 파일을 20초 단위로 분할한 후, 각 분할된 파일을 STT로 변환하여 텍스트를 결합합니다.\n",
    "- 분할된 파일 삭제: STT 변환이 완료된 후, 더 이상 필요하지 않은 분할된 WAV 파일을 삭제합니다."
   ]
  },
  {
   "cell_type": "code",
   "execution_count": 11,
   "metadata": {},
   "outputs": [],
   "source": [
    "def split_audio_and_send(file_path, segment_length=20000):\n",
    "    audio = AudioSegment.from_wav(file_path)\n",
    "    duration = len(audio)\n",
    "    full_text = \"\"\n",
    "    \n",
    "    for i in range(0, duration, segment_length):\n",
    "        segment = audio[i:i + segment_length]\n",
    "        segment_path = f\"segment_{i//1000}.wav\"\n",
    "        segment.export(segment_path, format=\"wav\")\n",
    "        text = send_to_stt(segment_path)\n",
    "        full_text += text + \" \"\n",
    "        \n",
    "        # 변환된 후 분할된 음성 파일 삭제\n",
    "        if os.path.exists(segment_path):\n",
    "            os.remove(segment_path)\n",
    "\n",
    "    return full_text.strip()\n"
   ]
  },
  {
   "cell_type": "code",
   "execution_count": null,
   "metadata": {},
   "outputs": [],
   "source": []
  },
  {
   "cell_type": "markdown",
   "metadata": {},
   "source": [
    "### 5.2 STT API 요청 함수\n",
    "\n",
    "- send_to_stt(): 분할된 오디오 파일을 ETRI STT API로 전송하여 텍스트로 변환합니다.\n"
   ]
  },
  {
   "cell_type": "code",
   "execution_count": 13,
   "metadata": {},
   "outputs": [],
   "source": [
    "def send_to_stt(segment_path):\n",
    "    openApiURL = \"http://aiopen.etri.re.kr:8000/WiseASR/Recognition\"\n",
    "    accessKey = \"ac4ce31e-ca09-4513-b6d9-a23ef73cc3ca\"\n",
    "    languageCode = \"korean\"\n",
    "\n",
    "    with open(segment_path, \"rb\") as file:\n",
    "        audioContents = base64.b64encode(file.read()).decode(\"utf8\")\n",
    "    \n",
    "    requestJson = {\n",
    "        \"argument\": {\n",
    "            \"language_code\": languageCode,\n",
    "            \"audio\": audioContents\n",
    "        }\n",
    "    }\n",
    "\n",
    "    http = urllib3.PoolManager()\n",
    "    response = http.request(\n",
    "        \"POST\",\n",
    "        openApiURL,\n",
    "        headers={\"Content-Type\": \"application/json; charset=UTF-8\", \"Authorization\": accessKey},\n",
    "        body=json.dumps(requestJson)\n",
    "    )\n",
    "    \n",
    "    print(f\"[responseCode] {response.status}\")\n",
    "    response_data = json.loads(response.data.decode('utf-8'))\n",
    "    return response_data.get(\"return_object\", {}).get(\"recognized\", \"\")\n"
   ]
  },
  {
   "cell_type": "markdown",
   "metadata": {},
   "source": [
    "### 5.3 요약 API 요청 함수\n",
    "\n",
    "- summarize_text(): STT로 변환된 텍스트를 요약 API로 전송하여 요약된 텍스트를 반환받습니다."
   ]
  },
  {
   "cell_type": "code",
   "execution_count": 15,
   "metadata": {},
   "outputs": [],
   "source": [
    "def summarize_text(content):\n",
    "    url = \"https://naveropenapi.apigw.ntruss.com/text-summary/v1/summarize\"\n",
    "    headers = {\n",
    "        \"X-NCP-APIGW-API-KEY-ID\": \"5pq84oiw69\",\n",
    "        \"X-NCP-APIGW-API-KEY\": \"XqgnzxNQFrFJanNAeYE0DLZBZMgc6nt2pzv1PieZ\",\n",
    "        \"Content-Type\": \"application/json\"\n",
    "    }\n",
    "\n",
    "    data = {\n",
    "        \"document\": {\n",
    "            \"title\": \"'음성 인식 결과 요약'\",\n",
    "            \"content\": content\n",
    "        },\n",
    "        \"option\": {\n",
    "            \"language\": \"ko\",\n",
    "            \"model\": \"general\",\n",
    "            \"tone\": 3,\n",
    "            \"summaryCount\": 5\n",
    "        }\n",
    "    }\n",
    "\n",
    "    response = requests.post(url, headers=headers, data=json.dumps(data))\n",
    "    if response.status_code == 200:\n",
    "        summary = response.json().get(\"summary\", \"\")\n",
    "        print(\"요약된 텍스트:\", summary)\n",
    "    else:\n",
    "        print(f\"Error: {response.status_code}\")\n",
    "        print(response.json())\n"
   ]
  },
  {
   "cell_type": "markdown",
   "metadata": {},
   "source": [
    "## 6. 전체 프로세스 실행"
   ]
  },
  {
   "cell_type": "markdown",
   "metadata": {},
   "source": [
    "### 6.1 녹음 시작\n",
    "- 60초 동안 녹음을 진행한 후, 녹음을 종료합니다."
   ]
  },
  {
   "cell_type": "code",
   "execution_count": 9,
   "metadata": {},
   "outputs": [
    {
     "name": "stdout",
     "output_type": "stream",
     "text": [
      "Start recording\n",
      "Stop recording\n"
     ]
    }
   ],
   "source": [
    "recorder_thread = start_recording()\n",
    "time.sleep(60)\n",
    "stop_recording(recorder_thread)"
   ]
  },
  {
   "cell_type": "markdown",
   "metadata": {},
   "source": [
    "### 6.2 STT 처리 및 텍스트 요약\n",
    "- 녹음된 파일을 STT로 변환한 후, 요약 API로 결과를 요약합니다."
   ]
  },
  {
   "cell_type": "code",
   "execution_count": 16,
   "metadata": {},
   "outputs": [
    {
     "name": "stdout",
     "output_type": "stream",
     "text": [
      "[responseCode] 200\n",
      "[responseCode] 200\n",
      "[responseCode] 200\n",
      "Full Recognized Text: 사랑은 물고 옮긴다 이 노래를 불러 산다는 나에게 마음 그들 하니 좋아 그대를 사랑하던 사람 그대 품에 그 사람 사랑해.\n",
      "Error: 400\n",
      "{'status': 400, 'error': {'errorCode': 'E100', 'message': 'Insufficient valid sentence'}}\n"
     ]
    }
   ],
   "source": [
    "full_text = split_audio_and_send(\"temp.wav\")\n",
    "print(\"Full Recognized Text:\", full_text)\n",
    "\n",
    "summarize_text(full_text)"
   ]
  },
  {
   "cell_type": "markdown",
   "metadata": {},
   "source": [
    "### 6.3 원본 오디오 파일 삭제\n",
    "\n",
    "STT 변환이 완료된 후, 원본 오디오 파일 temp.wav를 삭제하여 디스크 공간을 확보합니다."
   ]
  },
  {
   "cell_type": "code",
   "execution_count": 17,
   "metadata": {},
   "outputs": [
    {
     "name": "stdout",
     "output_type": "stream",
     "text": [
      "Original audio file deleted.\n"
     ]
    }
   ],
   "source": [
    "# STT 변환 후 원본 음성 파일 삭제\n",
    "if os.path.exists(\"temp.wav\"):\n",
    "    os.remove(\"temp.wav\")\n",
    "    print(\"Original audio file deleted.\")"
   ]
  },
  {
   "cell_type": "code",
   "execution_count": null,
   "metadata": {},
   "outputs": [],
   "source": []
  }
 ],
 "metadata": {
  "kernelspec": {
   "display_name": "Python 3",
   "language": "python",
   "name": "python3"
  },
  "language_info": {
   "codemirror_mode": {
    "name": "ipython",
    "version": 3
   },
   "file_extension": ".py",
   "mimetype": "text/x-python",
   "name": "python",
   "nbconvert_exporter": "python",
   "pygments_lexer": "ipython3",
   "version": "3.11.3"
  }
 },
 "nbformat": 4,
 "nbformat_minor": 2
}
