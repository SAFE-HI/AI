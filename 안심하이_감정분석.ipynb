{
  "nbformat": 4,
  "nbformat_minor": 0,
  "metadata": {
    "colab": {
      "provenance": []
    },
    "kernelspec": {
      "name": "python3",
      "display_name": "Python 3"
    },
    "language_info": {
      "name": "python"
    }
  },
  "cells": [
    {
      "cell_type": "markdown",
      "source": [
        "# KoBERT를 활용한 고독사 특화 감정 분석"
      ],
      "metadata": {
        "id": "I9df49Qn7s39"
      }
    },
    {
      "cell_type": "markdown",
      "source": [
        "### 필요한 라이브러리 설치"
      ],
      "metadata": {
        "id": "JAfkw_gh7B6k"
      }
    },
    {
      "cell_type": "code",
      "source": [
        "!pip install git+https://git@github.com/SKTBrain/KoBERT.git@master\n",
        "!pip install transformers torch scikit-learn pandas numpy"
      ],
      "metadata": {
        "colab": {
          "base_uri": "https://localhost:8080/"
        },
        "id": "2V0ATDgC8epk",
        "outputId": "c39fc6fb-3307-4ab5-8adc-307c54859722"
      },
      "execution_count": null,
      "outputs": [
        {
          "output_type": "stream",
          "name": "stdout",
          "text": [
            "Collecting git+https://****@github.com/SKTBrain/KoBERT.git@master\n",
            "  Cloning https://****@github.com/SKTBrain/KoBERT.git (to revision master) to /tmp/pip-req-build-i0jpj_gx\n",
            "  Running command git clone --filter=blob:none --quiet 'https://****@github.com/SKTBrain/KoBERT.git' /tmp/pip-req-build-i0jpj_gx\n",
            "  Resolved https://****@github.com/SKTBrain/KoBERT.git to commit 47a69af87928fc24e20f571fe10c3cc9dd9af9a3\n",
            "  Preparing metadata (setup.py) ... \u001b[?25l\u001b[?25hdone\n",
            "Collecting boto3<=1.15.18 (from kobert==0.2.3)\n",
            "  Using cached boto3-1.15.18-py2.py3-none-any.whl.metadata (5.3 kB)\n",
            "Collecting gluonnlp<=0.10.0,>=0.6.0 (from kobert==0.2.3)\n",
            "  Using cached gluonnlp-0.10.0.tar.gz (344 kB)\n",
            "  Preparing metadata (setup.py) ... \u001b[?25l\u001b[?25hdone\n",
            "Collecting mxnet<=1.7.0.post2,>=1.4.0 (from kobert==0.2.3)\n",
            "  Using cached mxnet-1.7.0.post2-py2.py3-none-manylinux2014_x86_64.whl.metadata (3.0 kB)\n",
            "INFO: pip is looking at multiple versions of kobert to determine which version is compatible with other requirements. This could take a while.\n",
            "\u001b[31mERROR: Could not find a version that satisfies the requirement onnxruntime<=1.8.0,==1.8.0 (from kobert) (from versions: 1.12.0, 1.12.1, 1.13.1, 1.14.0, 1.14.1, 1.15.0, 1.15.1, 1.16.0, 1.16.1, 1.16.2, 1.16.3, 1.17.0, 1.17.1, 1.17.3, 1.18.0, 1.18.1, 1.19.0)\u001b[0m\u001b[31m\n",
            "\u001b[0m\u001b[31mERROR: No matching distribution found for onnxruntime<=1.8.0,==1.8.0\u001b[0m\u001b[31m\n",
            "\u001b[0mRequirement already satisfied: transformers in /usr/local/lib/python3.10/dist-packages (4.42.4)\n",
            "Requirement already satisfied: torch in /usr/local/lib/python3.10/dist-packages (2.3.1+cu121)\n",
            "Requirement already satisfied: scikit-learn in /usr/local/lib/python3.10/dist-packages (1.3.2)\n",
            "Requirement already satisfied: pandas in /usr/local/lib/python3.10/dist-packages (2.1.4)\n",
            "Requirement already satisfied: numpy in /usr/local/lib/python3.10/dist-packages (1.26.4)\n",
            "Requirement already satisfied: filelock in /usr/local/lib/python3.10/dist-packages (from transformers) (3.15.4)\n",
            "Requirement already satisfied: huggingface-hub<1.0,>=0.23.2 in /usr/local/lib/python3.10/dist-packages (from transformers) (0.23.5)\n",
            "Requirement already satisfied: packaging>=20.0 in /usr/local/lib/python3.10/dist-packages (from transformers) (24.1)\n",
            "Requirement already satisfied: pyyaml>=5.1 in /usr/local/lib/python3.10/dist-packages (from transformers) (6.0.2)\n",
            "Requirement already satisfied: regex!=2019.12.17 in /usr/local/lib/python3.10/dist-packages (from transformers) (2024.5.15)\n",
            "Requirement already satisfied: requests in /usr/local/lib/python3.10/dist-packages (from transformers) (2.32.3)\n",
            "Requirement already satisfied: safetensors>=0.4.1 in /usr/local/lib/python3.10/dist-packages (from transformers) (0.4.4)\n",
            "Requirement already satisfied: tokenizers<0.20,>=0.19 in /usr/local/lib/python3.10/dist-packages (from transformers) (0.19.1)\n",
            "Requirement already satisfied: tqdm>=4.27 in /usr/local/lib/python3.10/dist-packages (from transformers) (4.66.5)\n",
            "Requirement already satisfied: typing-extensions>=4.8.0 in /usr/local/lib/python3.10/dist-packages (from torch) (4.12.2)\n",
            "Requirement already satisfied: sympy in /usr/local/lib/python3.10/dist-packages (from torch) (1.13.2)\n",
            "Requirement already satisfied: networkx in /usr/local/lib/python3.10/dist-packages (from torch) (3.3)\n",
            "Requirement already satisfied: jinja2 in /usr/local/lib/python3.10/dist-packages (from torch) (3.1.4)\n",
            "Requirement already satisfied: fsspec in /usr/local/lib/python3.10/dist-packages (from torch) (2024.6.1)\n",
            "Requirement already satisfied: nvidia-cuda-nvrtc-cu12==12.1.105 in /usr/local/lib/python3.10/dist-packages (from torch) (12.1.105)\n",
            "Requirement already satisfied: nvidia-cuda-runtime-cu12==12.1.105 in /usr/local/lib/python3.10/dist-packages (from torch) (12.1.105)\n",
            "Requirement already satisfied: nvidia-cuda-cupti-cu12==12.1.105 in /usr/local/lib/python3.10/dist-packages (from torch) (12.1.105)\n",
            "Requirement already satisfied: nvidia-cudnn-cu12==8.9.2.26 in /usr/local/lib/python3.10/dist-packages (from torch) (8.9.2.26)\n",
            "Requirement already satisfied: nvidia-cublas-cu12==12.1.3.1 in /usr/local/lib/python3.10/dist-packages (from torch) (12.1.3.1)\n",
            "Requirement already satisfied: nvidia-cufft-cu12==11.0.2.54 in /usr/local/lib/python3.10/dist-packages (from torch) (11.0.2.54)\n",
            "Requirement already satisfied: nvidia-curand-cu12==10.3.2.106 in /usr/local/lib/python3.10/dist-packages (from torch) (10.3.2.106)\n",
            "Requirement already satisfied: nvidia-cusolver-cu12==11.4.5.107 in /usr/local/lib/python3.10/dist-packages (from torch) (11.4.5.107)\n",
            "Requirement already satisfied: nvidia-cusparse-cu12==12.1.0.106 in /usr/local/lib/python3.10/dist-packages (from torch) (12.1.0.106)\n",
            "Requirement already satisfied: nvidia-nccl-cu12==2.20.5 in /usr/local/lib/python3.10/dist-packages (from torch) (2.20.5)\n",
            "Requirement already satisfied: nvidia-nvtx-cu12==12.1.105 in /usr/local/lib/python3.10/dist-packages (from torch) (12.1.105)\n",
            "Requirement already satisfied: triton==2.3.1 in /usr/local/lib/python3.10/dist-packages (from torch) (2.3.1)\n",
            "Requirement already satisfied: nvidia-nvjitlink-cu12 in /usr/local/lib/python3.10/dist-packages (from nvidia-cusolver-cu12==11.4.5.107->torch) (12.6.20)\n",
            "Requirement already satisfied: scipy>=1.5.0 in /usr/local/lib/python3.10/dist-packages (from scikit-learn) (1.13.1)\n",
            "Requirement already satisfied: joblib>=1.1.1 in /usr/local/lib/python3.10/dist-packages (from scikit-learn) (1.4.2)\n",
            "Requirement already satisfied: threadpoolctl>=2.0.0 in /usr/local/lib/python3.10/dist-packages (from scikit-learn) (3.5.0)\n",
            "Requirement already satisfied: python-dateutil>=2.8.2 in /usr/local/lib/python3.10/dist-packages (from pandas) (2.8.2)\n",
            "Requirement already satisfied: pytz>=2020.1 in /usr/local/lib/python3.10/dist-packages (from pandas) (2024.1)\n",
            "Requirement already satisfied: tzdata>=2022.1 in /usr/local/lib/python3.10/dist-packages (from pandas) (2024.1)\n",
            "Requirement already satisfied: six>=1.5 in /usr/local/lib/python3.10/dist-packages (from python-dateutil>=2.8.2->pandas) (1.16.0)\n",
            "Requirement already satisfied: MarkupSafe>=2.0 in /usr/local/lib/python3.10/dist-packages (from jinja2->torch) (2.1.5)\n",
            "Requirement already satisfied: charset-normalizer<4,>=2 in /usr/local/lib/python3.10/dist-packages (from requests->transformers) (3.3.2)\n",
            "Requirement already satisfied: idna<4,>=2.5 in /usr/local/lib/python3.10/dist-packages (from requests->transformers) (3.7)\n",
            "Requirement already satisfied: urllib3<3,>=1.21.1 in /usr/local/lib/python3.10/dist-packages (from requests->transformers) (2.0.7)\n",
            "Requirement already satisfied: certifi>=2017.4.17 in /usr/local/lib/python3.10/dist-packages (from requests->transformers) (2024.7.4)\n",
            "Requirement already satisfied: mpmath<1.4,>=1.1.0 in /usr/local/lib/python3.10/dist-packages (from sympy->torch) (1.3.0)\n"
          ]
        }
      ]
    },
    {
      "cell_type": "markdown",
      "source": [
        "### KoBERT 모델을 사용한 감정 분석"
      ],
      "metadata": {
        "id": "3IKcFDGk7Hg_"
      }
    },
    {
      "cell_type": "markdown",
      "source": [
        "#### 1. 데이터 준비"
      ],
      "metadata": {
        "id": "VOdyx7IvAsS6"
      }
    },
    {
      "cell_type": "code",
      "source": [
        "texts = [\n",
        "    \"최근에 아무것도 할 의욕이 없어요. 그냥 침대에 누워만 있고 싶어요. 친구들도 다들 바빠서 저 혼자 남은 것 같아요.\",\n",
        "    \"제가 정말 아무 쓸모 없는 사람인 것 같아요. 사람들이 다 나를 이해하지 못하는 것 같아요. 그래서 너무 외로워요.\",\n",
        "    \"이상하게 매일매일이 너무 힘들어요. 왜 사는지 모르겠어요. 앞날이 너무 막막해요.\",\n",
        "    \"잠을 자도 피곤하고, 일어나면 또 지치고... 하루가 너무 길게 느껴져요. 나 자신에게 확신이 없어요.\",\n",
        "    \"예전엔 즐겁던 일들이 이제는 전혀 기쁨이 없어요. 모든 게 무의미하게 느껴져요. 내가 뭘 해야 할지도 모르겠어요.\"\n",
        "]\n"
      ],
      "metadata": {
        "id": "8srFbEnt_iXZ"
      },
      "execution_count": null,
      "outputs": []
    },
    {
      "cell_type": "markdown",
      "source": [
        "#### 2. 전체 인터뷰 텍스트 분석"
      ],
      "metadata": {
        "id": "18ED9etvA9xB"
      }
    },
    {
      "cell_type": "code",
      "source": [
        "from transformers import BertTokenizer, BertForSequenceClassification\n",
        "from transformers import pipeline\n",
        "\n",
        "# KoBERT 모델 및 토크나이저 불러오기\n",
        "model_name = \"monologg/kobert\"\n",
        "tokenizer = BertTokenizer.from_pretrained(model_name)\n",
        "model = BertForSequenceClassification.from_pretrained(model_name, num_labels=12)  # 12개의 감정 범주에 맞게 라벨 설정\n",
        "\n",
        "# 감정 분석 파이프라인 설정\n",
        "nlp = pipeline(\"sentiment-analysis\", model=model, tokenizer=tokenizer)\n",
        "\n",
        "# 인터뷰 전체 텍스트 분석\n",
        "interview_scores = []\n",
        "for text in texts:\n",
        "    results = nlp(text)\n",
        "    scores = {emotion: 0.0 for emotion in range(12)}  # 12개의 감정 범주\n",
        "    for result in results:\n",
        "        label = int(result['label'].split('_')[-1])\n",
        "        score = result['score']\n",
        "        scores[label] += score\n",
        "    interview_scores.append(scores)\n"
      ],
      "metadata": {
        "colab": {
          "base_uri": "https://localhost:8080/"
        },
        "id": "kGYEzh3D-Rpq",
        "outputId": "eb8731f7-fe0e-48b0-f6c5-987a1d2001f3"
      },
      "execution_count": null,
      "outputs": [
        {
          "output_type": "stream",
          "name": "stderr",
          "text": [
            "The tokenizer class you load from this checkpoint is not the same type as the class this function is called from. It may result in unexpected tokenization. \n",
            "The tokenizer class you load from this checkpoint is 'KoBertTokenizer'. \n",
            "The class this function is called from is 'BertTokenizer'.\n",
            "Some weights of BertForSequenceClassification were not initialized from the model checkpoint at monologg/kobert and are newly initialized: ['classifier.bias', 'classifier.weight']\n",
            "You should probably TRAIN this model on a down-stream task to be able to use it for predictions and inference.\n"
          ]
        }
      ]
    },
    {
      "cell_type": "code",
      "source": [
        "# 감정 범주별 점수 합산 및 평균 계산\n",
        "final_scores = {emotion: 0.0 for emotion in range(12)}\n",
        "for scores in interview_scores:\n",
        "    for emotion, score in scores.items():\n",
        "        final_scores[emotion] += score\n",
        "\n",
        "# 감정 범주별 평균 점수 계산\n",
        "for emotion in final_scores:\n",
        "    final_scores[emotion] /= len(interview_scores)\n",
        "\n",
        "# 감정 이름을 키로 가지는 딕셔너리로 변환\n",
        "emotion_categories = {\n",
        "    0: \"슬픔\",\n",
        "    1: \"흥미 상실\",\n",
        "    2: \"무력감\",\n",
        "    3: \"자살 생각\",\n",
        "    4: \"외로움\",\n",
        "    5: \"소외감\",\n",
        "    6: \"사회적 고립\",\n",
        "    7: \"불안\",\n",
        "    8: \"거부감\",\n",
        "    9: \"절망감\",\n",
        "    10: \"자기 의심\",\n",
        "    11: \"자아의 혼란\",\n",
        "    12: \"내면의 고독\"\n",
        "}\n",
        "\n",
        "named_final_scores = {emotion_categories[idx]: score for idx, score in final_scores.items()}\n"
      ],
      "metadata": {
        "id": "8eSONTxN-mio"
      },
      "execution_count": null,
      "outputs": []
    },
    {
      "cell_type": "code",
      "source": [
        "# 중 카테고리 정의\n",
        "category_mapping = {\n",
        "    \"우울증적 고독\": [\"슬픔\", \"흥미 상실\", \"무력감\", \"자살 생각\"],\n",
        "    \"사회적 고독\": [\"외로움\", \"소외감\", \"사회적 고립\"],\n",
        "    \"정신적 고독\": [\"불안\", \"거부감\", \"절망감\"],\n",
        "    \"자아적 고독\": [\"자기 의심\", \"자아의 혼란\", \"내면의 고독\"]\n",
        "}\n",
        "\n",
        "# 중 카테고리별 점수 합산\n",
        "category_scores = {category: 0.0 for category in category_mapping.keys()}\n",
        "for category, emotions in category_mapping.items():\n",
        "    category_scores[category] = sum(named_final_scores[emotion] for emotion in emotions if emotion in named_final_scores)*100\n",
        "\n",
        "# 중 카테고리별 감정 분석 결과 출력\n",
        "print(\"\\n중 카테고리별 감정 분석 결과:\")\n",
        "for category, score in category_scores.items():\n",
        "    print(f\"{category}: {score:.4f}\")\n"
      ],
      "metadata": {
        "colab": {
          "base_uri": "https://localhost:8080/"
        },
        "id": "MsO0Fmb6BUwm",
        "outputId": "cc2376e3-6789-47fd-b592-66867ff79755"
      },
      "execution_count": null,
      "outputs": [
        {
          "output_type": "stream",
          "name": "stdout",
          "text": [
            "\n",
            "중 카테고리별 감정 분석 결과:\n",
            "우울증적 고독: 9.2574\n",
            "사회적 고독: 2.1282\n",
            "정신적 고독: 0.0000\n",
            "자아적 고독: 0.0000\n"
          ]
        }
      ]
    },
    {
      "cell_type": "code",
      "source": [
        "# 중 카테고리에 대한 가중치 설정 (필요시 조정 가능)\n",
        "weights = {\n",
        "    \"우울증적 고독\": 4,\n",
        "    \"사회적 고독\": 3,\n",
        "    \"정신적 고독\": 2,\n",
        "    \"자아적 고독\": 1\n",
        "}\n",
        "\n",
        "# 가중치 적용하여 최종 점수 계산\n",
        "weighted_scores = {}\n",
        "for category, score in category_scores.items():\n",
        "    weighted_scores[category] = score * weights[category]\n",
        "\n",
        "# 총점 계산\n",
        "total_score = sum(weighted_scores.values())\n",
        "\n",
        "# 위험군 분류\n",
        "def classify_risk(score):\n",
        "    if score < 15:\n",
        "        return \"저위험군\"\n",
        "    elif 15 <= score < 30:\n",
        "        return \"중위험군\"\n",
        "    else:\n",
        "        return \"고위험군\"\n",
        "\n",
        "risk_category = classify_risk(total_score)\n",
        "\n",
        "# 각 카테고리에 대한 주의 메시지 생성\n",
        "warnings = []\n",
        "for category, score in category_scores.items():\n",
        "    if score > 0.4:  # 특정 임계값(예: 0.5) 이상일 경우 경고 메시지 생성\n",
        "        warnings.append(f\"{category}에서 높은 점수({score:.4f})가 나타났습니다. 주의가 필요합니다.\")\n",
        "\n",
        "# 최종 결과 출력\n",
        "print(\"\\n통합된 중 카테고리별 가중 점수:\")\n",
        "for category, score in weighted_scores.items():\n",
        "    print(f\"{category}: {score:.4f}\")\n",
        "\n",
        "print(f\"\\n총 점수: {total_score:.4f}\")\n",
        "print(f\"위험군 분류: {risk_category}\")\n",
        "\n",
        "# 경고 메시지 출력\n",
        "if warnings:\n",
        "    print(\"\\n주의 사항:\")\n",
        "    for warning in warnings:\n",
        "        print(warning)\n",
        "else:\n",
        "    print(\"\\n주의할 점이 없습니다.\")\n"
      ],
      "metadata": {
        "colab": {
          "base_uri": "https://localhost:8080/"
        },
        "id": "djNOYs1lCfJq",
        "outputId": "86628768-394b-4af6-b034-1cffb7bf5693"
      },
      "execution_count": null,
      "outputs": [
        {
          "output_type": "stream",
          "name": "stdout",
          "text": [
            "\n",
            "통합된 중 카테고리별 가중 점수:\n",
            "우울증적 고독: 37.0297\n",
            "사회적 고독: 6.3847\n",
            "정신적 고독: 0.0000\n",
            "자아적 고독: 0.0000\n",
            "\n",
            "총 점수: 43.4144\n",
            "위험군 분류: 고위험군\n",
            "\n",
            "주의 사항:\n",
            "우울증적 고독에서 높은 점수(9.2574)가 나타났습니다. 주의가 필요합니다.\n",
            "사회적 고독에서 높은 점수(2.1282)가 나타났습니다. 주의가 필요합니다.\n"
          ]
        }
      ]
    },
    {
      "cell_type": "code",
      "source": [],
      "metadata": {
        "id": "1xVxMIvfCvuy"
      },
      "execution_count": null,
      "outputs": []
    }
  ]
}